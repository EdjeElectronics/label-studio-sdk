{
 "cells": [
  {
   "cell_type": "code",
   "execution_count": 11,
   "id": "initial_id",
   "metadata": {
    "collapsed": true,
    "ExecuteTime": {
     "end_time": "2024-06-04T12:21:04.373698Z",
     "start_time": "2024-06-04T12:21:04.370028Z"
    }
   },
   "outputs": [],
   "source": [
    "from label_studio_sdk.client import LabelStudio"
   ]
  },
  {
   "cell_type": "code",
   "outputs": [],
   "source": [
    "ls = LabelStudio(\n",
    "    base_url='http://localhost:8080',\n",
    "    api_key='27c982caa9e599c9d81b25b00663e7d4f82c9e3c'\n",
    ")"
   ],
   "metadata": {
    "collapsed": false,
    "ExecuteTime": {
     "end_time": "2024-06-04T12:21:05.750367Z",
     "start_time": "2024-06-04T12:21:05.731840Z"
    }
   },
   "id": "e9df445f9d4a746c",
   "execution_count": 12
  },
  {
   "cell_type": "code",
   "outputs": [],
   "source": [
    "project = ls.projects.create(\n",
    "    title='Live OCR',\n",
    "    description='A project to demonstrate live OCR with connected Tesseract model'\n",
    ")"
   ],
   "metadata": {
    "collapsed": false,
    "ExecuteTime": {
     "end_time": "2024-06-04T12:21:07.324503Z",
     "start_time": "2024-06-04T12:21:07.267896Z"
    }
   },
   "id": "71598abdbca596e2",
   "execution_count": 13
  },
  {
   "cell_type": "markdown",
   "source": [
    "# Create ML backend server\n",
    "\n",
    "Go to the `examples/tesseract` directory and run the following command to start the ML backend server:\n",
    "```\n",
    "docker-compose up\n",
    "```\n",
    "\n",
    "It will create a server with Tesseract OCR model listening on `http://localhost:9090`."
   ],
   "metadata": {
    "collapsed": false
   },
   "id": "a04744cba5e2a576"
  },
  {
   "cell_type": "markdown",
   "source": [
    "# Connect ML backend server to the project"
   ],
   "metadata": {
    "collapsed": false
   },
   "id": "45b8c6210f1df70d"
  },
  {
   "cell_type": "code",
   "outputs": [
    {
     "ename": "ApiError",
     "evalue": "status_code: 400, body: {'id': '2afc5a65-022b-403c-bace-df0a3fb8cc49', 'status_code': 400, 'version': '1.12.2.dev0', 'detail': 'Validation error', 'exc_info': None, 'validation_errors': {'non_field_errors': ['Can\\'t connect to ML backend http://localhost:9090, health check failed. Make sure it is up and your firewall is properly configured. <a href=\"https://labelstud.io/guide/ml.html\">Learn more</a> about how to set up an ML backend. Additional info: HTTPConnectionPool(host=\\'localhost\\', port=9090): Max retries exceeded with url: /health (Caused by NewConnectionError(\\'<urllib3.connection.HTTPConnection object at 0x7fccf0daece0>: Failed to establish a new connection: [Errno 61] Connection refused\\'))']}}",
     "output_type": "error",
     "traceback": [
      "\u001B[0;31m---------------------------------------------------------------------------\u001B[0m",
      "\u001B[0;31mApiError\u001B[0m                                  Traceback (most recent call last)",
      "\u001B[0;32m<ipython-input-14-65978a1bbc77>\u001B[0m in \u001B[0;36m<module>\u001B[0;34m\u001B[0m\n\u001B[0;32m----> 1\u001B[0;31m model = ls.ml.create(\n\u001B[0m\u001B[1;32m      2\u001B[0m     \u001B[0mtitle\u001B[0m\u001B[0;34m=\u001B[0m\u001B[0;34m'Tesseract OCR'\u001B[0m\u001B[0;34m,\u001B[0m\u001B[0;34m\u001B[0m\u001B[0;34m\u001B[0m\u001B[0m\n\u001B[1;32m      3\u001B[0m     \u001B[0mdescription\u001B[0m\u001B[0;34m=\u001B[0m\u001B[0;34m'A model to perform OCR using Tesseract'\u001B[0m\u001B[0;34m,\u001B[0m\u001B[0;34m\u001B[0m\u001B[0;34m\u001B[0m\u001B[0m\n\u001B[1;32m      4\u001B[0m     \u001B[0murl\u001B[0m\u001B[0;34m=\u001B[0m\u001B[0;34m'http://localhost:9090'\u001B[0m\u001B[0;34m,\u001B[0m\u001B[0;34m\u001B[0m\u001B[0;34m\u001B[0m\u001B[0m\n\u001B[1;32m      5\u001B[0m     \u001B[0mproject\u001B[0m\u001B[0;34m=\u001B[0m\u001B[0mproject\u001B[0m\u001B[0;34m.\u001B[0m\u001B[0mid\u001B[0m\u001B[0;34m,\u001B[0m\u001B[0;34m\u001B[0m\u001B[0;34m\u001B[0m\u001B[0m\n",
      "\u001B[0;32m~/PycharmProjects/label-studio-sdk/src/label_studio_sdk/ml/client.py\u001B[0m in \u001B[0;36mcreate\u001B[0;34m(self, url, project, is_interactive, title, description, auth_method, basic_auth_user, basic_auth_pass, extra_params, timeout, request_options)\u001B[0m\n\u001B[1;32m    227\u001B[0m         \u001B[0;32mexcept\u001B[0m \u001B[0mJSONDecodeError\u001B[0m\u001B[0;34m:\u001B[0m\u001B[0;34m\u001B[0m\u001B[0;34m\u001B[0m\u001B[0m\n\u001B[1;32m    228\u001B[0m             \u001B[0;32mraise\u001B[0m \u001B[0mApiError\u001B[0m\u001B[0;34m(\u001B[0m\u001B[0mstatus_code\u001B[0m\u001B[0;34m=\u001B[0m\u001B[0m_response\u001B[0m\u001B[0;34m.\u001B[0m\u001B[0mstatus_code\u001B[0m\u001B[0;34m,\u001B[0m \u001B[0mbody\u001B[0m\u001B[0;34m=\u001B[0m\u001B[0m_response\u001B[0m\u001B[0;34m.\u001B[0m\u001B[0mtext\u001B[0m\u001B[0;34m)\u001B[0m\u001B[0;34m\u001B[0m\u001B[0;34m\u001B[0m\u001B[0m\n\u001B[0;32m--> 229\u001B[0;31m         \u001B[0;32mraise\u001B[0m \u001B[0mApiError\u001B[0m\u001B[0;34m(\u001B[0m\u001B[0mstatus_code\u001B[0m\u001B[0;34m=\u001B[0m\u001B[0m_response\u001B[0m\u001B[0;34m.\u001B[0m\u001B[0mstatus_code\u001B[0m\u001B[0;34m,\u001B[0m \u001B[0mbody\u001B[0m\u001B[0;34m=\u001B[0m\u001B[0m_response_json\u001B[0m\u001B[0;34m)\u001B[0m\u001B[0;34m\u001B[0m\u001B[0;34m\u001B[0m\u001B[0m\n\u001B[0m\u001B[1;32m    230\u001B[0m \u001B[0;34m\u001B[0m\u001B[0m\n\u001B[1;32m    231\u001B[0m     \u001B[0;32mdef\u001B[0m \u001B[0mget\u001B[0m\u001B[0;34m(\u001B[0m\u001B[0mself\u001B[0m\u001B[0;34m,\u001B[0m \u001B[0mid\u001B[0m\u001B[0;34m:\u001B[0m \u001B[0mint\u001B[0m\u001B[0;34m,\u001B[0m \u001B[0;34m*\u001B[0m\u001B[0;34m,\u001B[0m \u001B[0mrequest_options\u001B[0m\u001B[0;34m:\u001B[0m \u001B[0mtyping\u001B[0m\u001B[0;34m.\u001B[0m\u001B[0mOptional\u001B[0m\u001B[0;34m[\u001B[0m\u001B[0mRequestOptions\u001B[0m\u001B[0;34m]\u001B[0m \u001B[0;34m=\u001B[0m \u001B[0;32mNone\u001B[0m\u001B[0;34m)\u001B[0m \u001B[0;34m->\u001B[0m \u001B[0mMlBackend\u001B[0m\u001B[0;34m:\u001B[0m\u001B[0;34m\u001B[0m\u001B[0;34m\u001B[0m\u001B[0m\n",
      "\u001B[0;31mApiError\u001B[0m: status_code: 400, body: {'id': '2afc5a65-022b-403c-bace-df0a3fb8cc49', 'status_code': 400, 'version': '1.12.2.dev0', 'detail': 'Validation error', 'exc_info': None, 'validation_errors': {'non_field_errors': ['Can\\'t connect to ML backend http://localhost:9090, health check failed. Make sure it is up and your firewall is properly configured. <a href=\"https://labelstud.io/guide/ml.html\">Learn more</a> about how to set up an ML backend. Additional info: HTTPConnectionPool(host=\\'localhost\\', port=9090): Max retries exceeded with url: /health (Caused by NewConnectionError(\\'<urllib3.connection.HTTPConnection object at 0x7fccf0daece0>: Failed to establish a new connection: [Errno 61] Connection refused\\'))']}}"
     ]
    }
   ],
   "source": [
    "model = ls.ml.create(\n",
    "    title='Tesseract OCR',\n",
    "    description='A model to perform OCR using Tesseract',\n",
    "    url='http://localhost:9090',\n",
    "    project=project.id,\n",
    "    is_interactive=True\n",
    ")"
   ],
   "metadata": {
    "collapsed": false,
    "ExecuteTime": {
     "end_time": "2024-06-04T12:21:11.899309Z",
     "start_time": "2024-06-04T12:21:11.819943Z"
    }
   },
   "id": "f9f90acea44fdf4e",
   "execution_count": 14
  },
  {
   "cell_type": "code",
   "outputs": [],
   "source": [],
   "metadata": {
    "collapsed": false
   },
   "id": "7d0617e5725f88df"
  }
 ],
 "metadata": {
  "kernelspec": {
   "display_name": "Python 3",
   "language": "python",
   "name": "python3"
  },
  "language_info": {
   "codemirror_mode": {
    "name": "ipython",
    "version": 2
   },
   "file_extension": ".py",
   "mimetype": "text/x-python",
   "name": "python",
   "nbconvert_exporter": "python",
   "pygments_lexer": "ipython2",
   "version": "2.7.6"
  }
 },
 "nbformat": 4,
 "nbformat_minor": 5
}
